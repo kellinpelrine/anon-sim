{
 "cells": [
  {
   "cell_type": "markdown",
   "metadata": {},
   "source": [
    "# Mastodon API operations\n",
    "\n",
    "API operations defined in `mastodon_sim.mastodon_ops`."
   ]
  },
  {
   "cell_type": "code",
   "execution_count": 1,
   "metadata": {},
   "outputs": [],
   "source": [
    "%load_ext autoreload\n",
    "%autoreload 2"
   ]
  },
  {
   "cell_type": "markdown",
   "metadata": {},
   "source": [
    "## Check environment\n",
    "\n",
    "Get environment variables with `.env` file (in project root directory)"
   ]
  },
  {
   "cell_type": "code",
   "execution_count": 2,
   "metadata": {},
   "outputs": [
    {
     "name": "stdout",
     "output_type": "stream",
     "text": [
      "2024-07-07T15:43:47.086044+0000 INFO Successfully loaded .env file.\n",
      "2024-07-07T15:43:47.087787+0000 INFO API_BASE_URL: https://social-sandbox.com\n",
      "2024-07-07T15:43:47.088235+0000 INFO EMAIL_PREFIX: austinmw89\n",
      "2024-07-07T15:43:47.088899+0000 INFO MASTODON_CLIENT_ID: N*****************************************E\n",
      "2024-07-07T15:43:47.089583+0000 INFO MASTODON_CLIENT_SECRET: b*****************************************s\n",
      "2024-07-07T15:43:47.090120+0000 INFO USER0003_PASSWORD: f******************************6\n",
      "2024-07-07T15:43:47.090608+0000 INFO USER0002_PASSWORD: 8******************************b\n",
      "2024-07-07T15:43:47.091042+0000 INFO USER0004_PASSWORD: 7******************************e\n",
      "2024-07-07T15:43:47.091536+0000 INFO USER0001_PASSWORD: 9******************************5\n",
      "2024-07-07T15:43:47.091854+0000 INFO USER0005_PASSWORD: a******************************a\n"
     ]
    }
   ],
   "source": [
    "from mastodon_sim.mastodon_ops import check_env\n",
    "\n",
    "check_env()"
   ]
  },
  {
   "cell_type": "markdown",
   "metadata": {},
   "source": [
    "## Get Mastodon client\n",
    "\n",
    "Create Mastodon client object"
   ]
  },
  {
   "cell_type": "code",
   "execution_count": 3,
   "metadata": {},
   "outputs": [],
   "source": [
    "from mastodon_sim.mastodon_ops import get_client\n",
    "\n",
    "mastodon = get_client()"
   ]
  },
  {
   "cell_type": "markdown",
   "metadata": {},
   "source": [
    "## Login user\n",
    "\n",
    "Get access token for `user0001`."
   ]
  },
  {
   "cell_type": "code",
   "execution_count": 4,
   "metadata": {},
   "outputs": [
    {
     "name": "stdout",
     "output_type": "stream",
     "text": [
      "access_token: pAvbKpkDFp3kOXZMlwRarowT2H7Ypj4LuyNo6UmX12g\n"
     ]
    }
   ],
   "source": [
    "from mastodon_sim.mastodon_ops import login\n",
    "\n",
    "access_token = login(\"user0001\")\n",
    "print(f\"access_token: {access_token}\")"
   ]
  },
  {
   "cell_type": "markdown",
   "metadata": {},
   "source": [
    "## Update name and bio\n",
    "\n",
    "Update `user0001`'s display name and bio."
   ]
  },
  {
   "cell_type": "code",
   "execution_count": 5,
   "metadata": {},
   "outputs": [
    {
     "name": "stdout",
     "output_type": "stream",
     "text": [
      "2024-07-07T15:43:48.042059+0000 INFO user0001 successfully updated the display name and bio.\n"
     ]
    }
   ],
   "source": [
    "from mastodon_sim.mastodon_ops import update_bio\n",
    "\n",
    "display_name = \"Bob\"\n",
    "bio = \"Hello, I am user0001!\"\n",
    "\n",
    "update_bio(login_user=\"user0001\", display_name=display_name, bio=bio)"
   ]
  },
  {
   "cell_type": "markdown",
   "metadata": {},
   "source": [
    "## Read name and bio\n",
    "\n",
    "Have one user read another user's bio. Defaults to \"Not provided\" if the user has not set either."
   ]
  },
  {
   "cell_type": "code",
   "execution_count": 6,
   "metadata": {},
   "outputs": [
    {
     "name": "stdout",
     "output_type": "stream",
     "text": [
      "2024-07-07T15:43:48.455475+0000 INFO User: user0001\n",
      "Display Name: Bob\n",
      "Bio: <p>Hello, I am user0001!</p>\n",
      "2024-07-07T15:43:48.897200+0000 INFO User: user0002\n",
      "Display Name: Not provided\n",
      "Bio: Not provided\n"
     ]
    }
   ],
   "source": [
    "from mastodon_sim.mastodon_ops import read_bio\n",
    "\n",
    "display_name, bio = read_bio(login_user=\"user0002\", target_user=\"user0001\")\n",
    "\n",
    "display_name, bio = read_bio(login_user=\"user0001\", target_user=\"user0002\")"
   ]
  },
  {
   "cell_type": "markdown",
   "metadata": {},
   "source": [
    "## Follow user\n",
    "\n",
    "Make `user0001` follow `user0002` and vice versa."
   ]
  },
  {
   "cell_type": "code",
   "execution_count": 7,
   "metadata": {},
   "outputs": [
    {
     "name": "stdout",
     "output_type": "stream",
     "text": [
      "2024-07-07T15:43:49.482733+0000 INFO user0001 is now following user0002.\n",
      "2024-07-07T15:43:49.951929+0000 INFO user0002 is now following user0001.\n"
     ]
    }
   ],
   "source": [
    "from mastodon_sim.mastodon_ops import follow\n",
    "\n",
    "follow(login_user=\"user0001\", follow_user=\"user0002\")\n",
    "\n",
    "follow(login_user=\"user0002\", follow_user=\"user0001\")"
   ]
  },
  {
   "cell_type": "markdown",
   "metadata": {},
   "source": [
    "## Unfollow user\n",
    "\n",
    "Make `user0002` unfollow `user0001`."
   ]
  },
  {
   "cell_type": "code",
   "execution_count": 8,
   "metadata": {},
   "outputs": [
    {
     "name": "stdout",
     "output_type": "stream",
     "text": [
      "2024-07-07T15:43:50.374275+0000 INFO user0002 has unfollowed user0001.\n"
     ]
    }
   ],
   "source": [
    "from mastodon_sim.mastodon_ops import unfollow\n",
    "\n",
    "unfollow(login_user=\"user0002\", unfollow_user=\"user0001\")"
   ]
  },
  {
   "cell_type": "markdown",
   "metadata": {},
   "source": [
    "## Toot (post a status)\n",
    "\n",
    "Make `user0001` and `user0002` toot a `status`.\n",
    "\n",
    "Note that \"toot\" is analogous to \"tweet\"."
   ]
  },
  {
   "cell_type": "code",
   "execution_count": 9,
   "metadata": {},
   "outputs": [
    {
     "name": "stdout",
     "output_type": "stream",
     "text": [
      "2024-07-07T15:43:50.862667+0000 INFO user0001 successfully tooted the status.\n",
      "2024-07-07T15:43:51.347883+0000 INFO user0002 successfully tooted the status.\n"
     ]
    }
   ],
   "source": [
    "from mastodon_sim.mastodon_ops import toot\n",
    "\n",
    "toot(login_user=\"user0001\", status=\"Hello World, from user0001!\")\n",
    "\n",
    "toot(login_user=\"user0002\", status=\"Hello World, from user0002!\")"
   ]
  },
  {
   "cell_type": "markdown",
   "metadata": {},
   "source": [
    "## Post a status with additional settings\n",
    "\n",
    "Note that `toot` is a synonym for `post_status`, but only takes the status text as input."
   ]
  },
  {
   "cell_type": "code",
   "execution_count": 10,
   "metadata": {},
   "outputs": [
    {
     "name": "stdout",
     "output_type": "stream",
     "text": [
      "2024-07-07T15:43:51.755838+0000 INFO user0002 successfully posted the status.\n"
     ]
    }
   ],
   "source": [
    "from mastodon_sim.mastodon_ops import post_status\n",
    "\n",
    "post_status(\n",
    "    login_user=\"user0002\",\n",
    "    status=\"Hello World, from user0002! This is an unlisted toot with a content warning.\",\n",
    "    visibility=\"unlisted\",\n",
    "    sensitive=True,\n",
    "    spoiler_text=\"Content warning\",\n",
    ")"
   ]
  },
  {
   "cell_type": "markdown",
   "metadata": {},
   "source": [
    "## Send a DM\n",
    "\n",
    "Send a DM from `user0001` to `user0002`."
   ]
  },
  {
   "cell_type": "code",
   "execution_count": 11,
   "metadata": {},
   "outputs": [
    {
     "name": "stdout",
     "output_type": "stream",
     "text": [
      "2024-07-07T15:43:52.150976+0000 INFO user0001 successfully posted the status.\n"
     ]
    }
   ],
   "source": [
    "post_status(\n",
    "    login_user=\"user0001\",\n",
    "    status=\"@user0002 Hello, this is a direct message!\",\n",
    "    visibility=\"direct\",\n",
    ")"
   ]
  },
  {
   "cell_type": "markdown",
   "metadata": {},
   "source": [
    "###"
   ]
  },
  {
   "cell_type": "markdown",
   "metadata": {},
   "source": [
    "## Post with media attachments"
   ]
  },
  {
   "cell_type": "code",
   "execution_count": 12,
   "metadata": {},
   "outputs": [
    {
     "name": "stdout",
     "output_type": "stream",
     "text": [
      "2024-07-07T15:43:54.679601+0000 INFO user0001 successfully posted the status.\n"
     ]
    }
   ],
   "source": [
    "image_file = \"../infrastructure/mastodon-on-aws/architecture.png\"\n",
    "\n",
    "post_status(\n",
    "    login_user=\"user0001\",\n",
    "    status=\"Check out this image!\",\n",
    "    media_files=[image_file],\n",
    ")"
   ]
  },
  {
   "cell_type": "markdown",
   "metadata": {},
   "source": [
    "## Create a poll"
   ]
  },
  {
   "cell_type": "code",
   "execution_count": 13,
   "metadata": {},
   "outputs": [
    {
     "name": "stdout",
     "output_type": "stream",
     "text": [
      "2024-07-07T15:43:55.264220+0000 INFO user0001 successfully posted the status.\n"
     ]
    }
   ],
   "source": [
    "post_status(\n",
    "    login_user=\"user0001\",\n",
    "    status=\"What's your favorite color?\",\n",
    "    poll_options=[\"Red\", \"Blue\", \"Green\"],\n",
    "    poll_expires_in=86400,\n",
    ")"
   ]
  },
  {
   "cell_type": "markdown",
   "metadata": {},
   "source": [
    "## Get the public timeline\n",
    "\n",
    "Get the entire pubic timeline in reverse chronological order, up to `limit`."
   ]
  },
  {
   "cell_type": "code",
   "execution_count": 14,
   "metadata": {},
   "outputs": [
    {
     "name": "stdout",
     "output_type": "stream",
     "text": [
      "2024-07-07T15:43:55.505247+0000 INFO Retrieved 4 posts from the public timeline.\n",
      "----------------------------------------\n",
      "Post ID: 112745974021944888\n",
      "Created At: 2024-07-07 15:43:55.247000+00:00\n",
      "User: Bob (@user0001)\n",
      "Content: <p>What&#39;s your favorite color?</p>\n",
      "URL: https://social-sandbox.com/@user0001/112745974021944888\n",
      "Favourites: 0, Reblogs: 0\n",
      "----------------------------------------\n",
      "Post ID: 112745973983640335\n",
      "Created At: 2024-07-07 15:43:54.663000+00:00\n",
      "User: Bob (@user0001)\n",
      "Content: <p>Check out this image!</p>\n",
      "URL: https://social-sandbox.com/@user0001/112745973983640335\n",
      "Favourites: 0, Reblogs: 0\n",
      "----------------------------------------\n",
      "Post ID: 112745973765652544\n",
      "Created At: 2024-07-07 15:43:51.337000+00:00\n",
      "User:  (@user0002)\n",
      "Content: <p>Hello World, from user0002!</p>\n",
      "URL: https://social-sandbox.com/@user0002/112745973765652544\n",
      "Favourites: 0, Reblogs: 0\n",
      "----------------------------------------\n",
      "Post ID: 112745973731778536\n",
      "Created At: 2024-07-07 15:43:50.821000+00:00\n",
      "User: Bob (@user0001)\n",
      "Content: <p>Hello World, from user0001!</p>\n",
      "URL: https://social-sandbox.com/@user0001/112745973731778536\n",
      "Favourites: 0, Reblogs: 0\n",
      "----------------------------------------\n"
     ]
    }
   ],
   "source": [
    "from mastodon_sim.mastodon_ops import get_public_timeline, print_timeline\n",
    "\n",
    "timeline = get_public_timeline(limit=None)\n",
    "print_timeline(timeline)"
   ]
  },
  {
   "cell_type": "markdown",
   "metadata": {},
   "source": [
    "## Get own timeline\n",
    "\n",
    "Retrieve `user0001`'s timeline. Fetches the logged-in user's home timeline (i.e., followed users and self). Offers filtering options:\n",
    "- `all`: Default, shows all posts\n",
    "- `self`: Shows only the user's own posts\n",
    "- `others`: Shows only posts from followed users"
   ]
  },
  {
   "cell_type": "code",
   "execution_count": 15,
   "metadata": {},
   "outputs": [
    {
     "name": "stdout",
     "output_type": "stream",
     "text": [
      "2024-07-07T15:43:56.016913+0000 INFO user0001 retrieved 6 posts from their timeline (filter: all).\n",
      "2024-07-07T15:43:56.467476+0000 INFO user0001 retrieved 4 posts from their timeline (filter: self).\n",
      "2024-07-07T15:43:56.891936+0000 INFO user0001 retrieved 2 posts from their timeline (filter: others).\n",
      "----------------------------------------\n",
      "Post ID: 112745973792770639\n",
      "Created At: 2024-07-07 15:43:51.751000+00:00\n",
      "User:  (@user0002)\n",
      "Content: <p>Hello World, from user0002! This is an unlisted toot with a content warning.</p>\n",
      "URL: https://social-sandbox.com/@user0002/112745973792770639\n",
      "Favourites: 0, Reblogs: 0\n",
      "----------------------------------------\n",
      "Post ID: 112745973765652544\n",
      "Created At: 2024-07-07 15:43:51.337000+00:00\n",
      "User:  (@user0002)\n",
      "Content: <p>Hello World, from user0002!</p>\n",
      "URL: https://social-sandbox.com/@user0002/112745973765652544\n",
      "Favourites: 0, Reblogs: 0\n",
      "----------------------------------------\n"
     ]
    }
   ],
   "source": [
    "from mastodon_sim.mastodon_ops import get_own_timeline\n",
    "\n",
    "# Notice the retrieved count is different for each of these\n",
    "timeline = get_own_timeline(\"user0001\", filter_type=\"all\")\n",
    "timeline = get_own_timeline(\"user0001\", filter_type=\"self\")\n",
    "timeline = get_own_timeline(\"user0001\", filter_type=\"others\")\n",
    "\n",
    "# Print the timeline (in this case, all others following, but not self)\n",
    "print_timeline(timeline)"
   ]
  },
  {
   "cell_type": "markdown",
   "metadata": {},
   "source": [
    "## Read a user's timeline (non-global)\n",
    "\n",
    "From the perspective of `user0002`, read `user0001`'s timeline.\n",
    "\n",
    "**Accessible Information**:\n",
    "  - `user0002` can read `user0001`'s public and unlisted posts, as well as follower-only posts if `user0002` is a follower.\n",
    "  - Details available include post ID, creation date, username, display name, content, URL, favourites count, and reblogs count.\n",
    "\n",
    "**Restricted Information**:\n",
    "  - `user0002` cannot access private posts or direct messages.\n",
    "\n",
    "**Impact of Being Blocked**:\n",
    "  - If `user0001` has blocked `user0002`, `user0002` cannot retrieve any posts from `user0001`'s timeline.\n",
    "  - The function will return an empty list due to the block enforced by the Mastodon API."
   ]
  },
  {
   "cell_type": "code",
   "execution_count": 16,
   "metadata": {},
   "outputs": [
    {
     "name": "stdout",
     "output_type": "stream",
     "text": [
      "2024-07-07T15:43:57.479062+0000 INFO user0002 retrieved 4 posts from user0001's timeline.\n",
      "----------------------------------------\n",
      "Post ID: 112745974021944888\n",
      "Created At: 2024-07-07 15:43:55.247000+00:00\n",
      "User: Bob (@user0001)\n",
      "Content: <p>What&#39;s your favorite color?</p>\n",
      "URL: https://social-sandbox.com/@user0001/112745974021944888\n",
      "Favourites: 0, Reblogs: 0\n",
      "----------------------------------------\n",
      "Post ID: 112745973983640335\n",
      "Created At: 2024-07-07 15:43:54.663000+00:00\n",
      "User: Bob (@user0001)\n",
      "Content: <p>Check out this image!</p>\n",
      "URL: https://social-sandbox.com/@user0001/112745973983640335\n",
      "Favourites: 0, Reblogs: 0\n",
      "----------------------------------------\n",
      "Post ID: 112745973818201744\n",
      "Created At: 2024-07-07 15:43:52.143000+00:00\n",
      "User: Bob (@user0001)\n",
      "Content: <p><span class=\"h-card\" translate=\"no\"><a href=\"https://social-sandbox.com/@user0002\" class=\"u-url mention\">@<span>user0002</span></a></span> Hello, this is a direct message!</p>\n",
      "URL: https://social-sandbox.com/@user0001/112745973818201744\n",
      "Favourites: 0, Reblogs: 0\n",
      "----------------------------------------\n",
      "Post ID: 112745973731778536\n",
      "Created At: 2024-07-07 15:43:50.821000+00:00\n",
      "User: Bob (@user0001)\n",
      "Content: <p>Hello World, from user0001!</p>\n",
      "URL: https://social-sandbox.com/@user0001/112745973731778536\n",
      "Favourites: 0, Reblogs: 0\n",
      "----------------------------------------\n"
     ]
    }
   ],
   "source": [
    "from mastodon_sim.mastodon_ops import get_user_timeline\n",
    "\n",
    "timeline = get_user_timeline(login_user=\"user0002\", target_user=\"user0001\", limit=None)\n",
    "print_timeline(timeline)"
   ]
  },
  {
   "cell_type": "markdown",
   "metadata": {},
   "source": [
    "## Block / unblock a user\n",
    "\n",
    "Make `user0001` block or unblock `user0002`."
   ]
  },
  {
   "cell_type": "code",
   "execution_count": 17,
   "metadata": {},
   "outputs": [
    {
     "name": "stdout",
     "output_type": "stream",
     "text": [
      "2024-07-07T15:43:57.961327+0000 INFO user0001 has blocked user0002.\n",
      "2024-07-07T15:43:58.465265+0000 INFO user0002 retrieved 0 posts from user0001's timeline.\n",
      "2024-07-07T15:43:58.946852+0000 INFO user0001 has unblocked user0002.\n",
      "2024-07-07T15:43:59.471101+0000 INFO user0002 retrieved 4 posts from user0001's timeline.\n"
     ]
    }
   ],
   "source": [
    "from mastodon_sim.mastodon_ops import block_user, unblock_user\n",
    "\n",
    "# user001 blocks user002\n",
    "block_user(login_user=\"user0001\", target_user=\"user0002\")\n",
    "\n",
    "# user002 tries to read user001's timeline, but retrieves zero toots\n",
    "timeline = get_user_timeline(login_user=\"user0002\", target_user=\"user0001\")\n",
    "\n",
    "# user001 unblocks user002\n",
    "unblock_user(login_user=\"user0001\", target_user=\"user0002\")\n",
    "\n",
    "# user002 tries to read user001's timeline again, and retrieves the toots\n",
    "timeline = get_user_timeline(login_user=\"user0002\", target_user=\"user0001\")"
   ]
  },
  {
   "cell_type": "markdown",
   "metadata": {},
   "source": [
    "## Mute account (user)\n",
    "\n",
    "Make `user0001` mute and unmute `user0002`."
   ]
  },
  {
   "cell_type": "code",
   "execution_count": 18,
   "metadata": {},
   "outputs": [
    {
     "name": "stdout",
     "output_type": "stream",
     "text": [
      "2024-07-07T15:44:00.303823+0000 INFO Successfully muted account @user0002 (ID: 112739472155322330) indefinitely without notifications.\n",
      "2024-07-07T15:44:00.824537+0000 INFO Successfully unmuted account @user0002 (ID: 112739472155322330).\n"
     ]
    }
   ],
   "source": [
    "from mastodon_sim.mastodon_ops import mute_account, unmute_account\n",
    "\n",
    "mute_account(\n",
    "    login_user=\"user0001\",\n",
    "    mute_user=\"user0002\",\n",
    "    notifications=False,\n",
    "    duration=None,\n",
    ")\n",
    "\n",
    "unmute_account(\n",
    "    login_user=\"user0001\",\n",
    "    unmute_user=\"user0002\",\n",
    ")"
   ]
  },
  {
   "cell_type": "markdown",
   "metadata": {},
   "source": [
    "## Like (favorite) a toot\n",
    "\n",
    "Make `user0002` like `user0001`'s toot with ID `toot_id`."
   ]
  },
  {
   "cell_type": "code",
   "execution_count": 19,
   "metadata": {},
   "outputs": [
    {
     "name": "stdout",
     "output_type": "stream",
     "text": [
      "2024-07-07T15:44:01.322751+0000 INFO user0002 retrieved 4 posts from user0001's timeline.\n",
      "2024-07-07T15:44:01.765119+0000 INFO user0002 liked post 112745974021944888 from user0001.\n"
     ]
    }
   ],
   "source": [
    "from mastodon_sim.mastodon_ops import like_toot\n",
    "\n",
    "timeline = get_user_timeline(login_user=\"user0002\", target_user=\"user0001\")\n",
    "\n",
    "# Most recent toot is index 0 (reverse chronological order)\n",
    "most_recent_toot_id = timeline[0][\"id\"]\n",
    "\n",
    "like_toot(login_user=\"user0002\", target_user=\"user0001\", toot_id=most_recent_toot_id)"
   ]
  },
  {
   "cell_type": "markdown",
   "metadata": {},
   "source": [
    "## Boost (reblog) a toot\n",
    "\n",
    "Make `user0002` boost `user0001`'s toot with ID `toot_id`."
   ]
  },
  {
   "cell_type": "code",
   "execution_count": 20,
   "metadata": {},
   "outputs": [
    {
     "name": "stdout",
     "output_type": "stream",
     "text": [
      "2024-07-07T15:44:02.417262+0000 INFO user0002 retrieved 4 posts from user0001's timeline.\n",
      "2024-07-07T15:44:02.953717+0000 INFO user0002 boosted post 112745974021944888 from user0001.\n"
     ]
    }
   ],
   "source": [
    "from mastodon_sim.mastodon_ops import boost_toot\n",
    "\n",
    "timeline = get_user_timeline(login_user=\"user0002\", target_user=\"user0001\")\n",
    "most_recent_toot_id = timeline[0][\"id\"]\n",
    "\n",
    "boost_toot(login_user=\"user0002\", target_user=\"user0001\", toot_id=most_recent_toot_id)"
   ]
  },
  {
   "cell_type": "markdown",
   "metadata": {},
   "source": [
    "## Post a reply\n",
    "\n",
    "Make `user0002` reply to `user0001`'s post (a poll)."
   ]
  },
  {
   "cell_type": "code",
   "execution_count": 21,
   "metadata": {},
   "outputs": [
    {
     "name": "stdout",
     "output_type": "stream",
     "text": [
      "2024-07-07T15:44:03.495175+0000 INFO user0002 retrieved 4 posts from user0001's timeline.\n",
      "Last toot: <p>What&#39;s your favorite color?</p>\n",
      "2024-07-07T15:44:04.030854+0000 INFO user0002 successfully posted the status.\n"
     ]
    }
   ],
   "source": [
    "timeline = get_user_timeline(login_user=\"user0002\", target_user=\"user0001\")\n",
    "print(f\"Last toot: {timeline[0]['content']}\")\n",
    "most_recent_toot_id = timeline[0][\"id\"]\n",
    "\n",
    "post_status(\n",
    "    login_user=\"user0002\",\n",
    "    status=\"This is a great poll!\",\n",
    "    in_reply_to_id=most_recent_toot_id,\n",
    ")"
   ]
  },
  {
   "cell_type": "markdown",
   "metadata": {},
   "source": [
    "## Read notifications\n",
    "\n",
    "Read all notifications for `user0001` and clear them."
   ]
  },
  {
   "cell_type": "code",
   "execution_count": 22,
   "metadata": {},
   "outputs": [
    {
     "name": "stdout",
     "output_type": "stream",
     "text": [
      "2024-07-07T15:44:04.499526+0000 INFO Fetched 2 notifications for user user0001\n",
      "2024-07-07T15:44:04.538770+0000 INFO Cleared all 2 notifications for user user0001\n",
      "\n",
      "==================================================\n",
      "ID: 153\n",
      "Type: reblog\n",
      "Created at: 2024-07-07 15:44:02.989000+00:00\n",
      "From: @user0002 ()\n",
      "Reblogged your status: <p>What&#39;s your favorite color?</p>...\n",
      "\n",
      "==================================================\n",
      "ID: 152\n",
      "Type: favourite\n",
      "Created at: 2024-07-07 15:44:01.779000+00:00\n",
      "From: @user0002 ()\n",
      "Favourited your status: <p>What&#39;s your favorite color?</p>...\n",
      "\n",
      "Total notifications: 2\n"
     ]
    }
   ],
   "source": [
    "from mastodon_sim.mastodon_ops import print_notifications, read_notifications\n",
    "\n",
    "notifications = read_notifications(login_user=\"user0001\", clear=True, limit=None)\n",
    "print_notifications(notifications)"
   ]
  },
  {
   "cell_type": "markdown",
   "metadata": {},
   "source": [
    "## Display user follow graph"
   ]
  },
  {
   "cell_type": "code",
   "execution_count": 23,
   "metadata": {},
   "outputs": [
    {
     "name": "stdout",
     "output_type": "stream",
     "text": [
      "2024-07-07T15:44:04.944838+0000 INFO user0001 is now following user0002.\n",
      "2024-07-07T15:44:05.474413+0000 INFO user0002 is now following user0001.\n",
      "2024-07-07T15:44:05.993926+0000 INFO user0003 is now following user0001.\n",
      "2024-07-07T15:44:06.375458+0000 INFO user0004 is now following user0001.\n",
      "2024-07-07T15:44:06.905110+0000 INFO user0005 is now following user0001.\n",
      "2024-07-07T15:44:06.907474+0000 INFO Found 5 users from environment variables.\n"
     ]
    },
    {
     "data": {
      "text/html": [
       "\n",
       "        <div id=\"graph-container\" style=\"width:100%; height:600px;\">\n",
       "            \n",
       "        <iframe srcdoc=\"&lt;html&gt;\n",
       "    &lt;head&gt;\n",
       "        &lt;meta charset=&quot;utf-8&quot;&gt;\n",
       "        \n",
       "            &lt;script&gt;function neighbourhoodHighlight(params) {\n",
       "  // console.log(&quot;in nieghbourhoodhighlight&quot;);\n",
       "  allNodes = nodes.get({ returnType: &quot;Object&quot; });\n",
       "  // originalNodes = JSON.parse(JSON.stringify(allNodes));\n",
       "  // if something is selected:\n",
       "  if (params.nodes.length &gt; 0) {\n",
       "    highlightActive = true;\n",
       "    var i, j;\n",
       "    var selectedNode = params.nodes[0];\n",
       "    var degrees = 2;\n",
       "\n",
       "    // mark all nodes as hard to read.\n",
       "    for (let nodeId in allNodes) {\n",
       "      // nodeColors[nodeId] = allNodes[nodeId].color;\n",
       "      allNodes[nodeId].color = &quot;rgba(200,200,200,0.5)&quot;;\n",
       "      if (allNodes[nodeId].hiddenLabel === undefined) {\n",
       "        allNodes[nodeId].hiddenLabel = allNodes[nodeId].label;\n",
       "        allNodes[nodeId].label = undefined;\n",
       "      }\n",
       "    }\n",
       "    var connectedNodes = network.getConnectedNodes(selectedNode);\n",
       "    var allConnectedNodes = [];\n",
       "\n",
       "    // get the second degree nodes\n",
       "    for (i = 1; i &lt; degrees; i++) {\n",
       "      for (j = 0; j &lt; connectedNodes.length; j++) {\n",
       "        allConnectedNodes = allConnectedNodes.concat(\n",
       "          network.getConnectedNodes(connectedNodes[j])\n",
       "        );\n",
       "      }\n",
       "    }\n",
       "\n",
       "    // all second degree nodes get a different color and their label back\n",
       "    for (i = 0; i &lt; allConnectedNodes.length; i++) {\n",
       "      // allNodes[allConnectedNodes[i]].color = &quot;pink&quot;;\n",
       "      allNodes[allConnectedNodes[i]].color = &quot;rgba(150,150,150,0.75)&quot;;\n",
       "      if (allNodes[allConnectedNodes[i]].hiddenLabel !== undefined) {\n",
       "        allNodes[allConnectedNodes[i]].label =\n",
       "          allNodes[allConnectedNodes[i]].hiddenLabel;\n",
       "        allNodes[allConnectedNodes[i]].hiddenLabel = undefined;\n",
       "      }\n",
       "    }\n",
       "\n",
       "    // all first degree nodes get their own color and their label back\n",
       "    for (i = 0; i &lt; connectedNodes.length; i++) {\n",
       "      // allNodes[connectedNodes[i]].color = undefined;\n",
       "      allNodes[connectedNodes[i]].color = nodeColors[connectedNodes[i]];\n",
       "      if (allNodes[connectedNodes[i]].hiddenLabel !== undefined) {\n",
       "        allNodes[connectedNodes[i]].label =\n",
       "          allNodes[connectedNodes[i]].hiddenLabel;\n",
       "        allNodes[connectedNodes[i]].hiddenLabel = undefined;\n",
       "      }\n",
       "    }\n",
       "\n",
       "    // the main node gets its own color and its label back.\n",
       "    // allNodes[selectedNode].color = undefined;\n",
       "    allNodes[selectedNode].color = nodeColors[selectedNode];\n",
       "    if (allNodes[selectedNode].hiddenLabel !== undefined) {\n",
       "      allNodes[selectedNode].label = allNodes[selectedNode].hiddenLabel;\n",
       "      allNodes[selectedNode].hiddenLabel = undefined;\n",
       "    }\n",
       "  } else if (highlightActive === true) {\n",
       "    // console.log(&quot;highlightActive was true&quot;);\n",
       "    // reset all nodes\n",
       "    for (let nodeId in allNodes) {\n",
       "      // allNodes[nodeId].color = &quot;purple&quot;;\n",
       "      allNodes[nodeId].color = nodeColors[nodeId];\n",
       "      // delete allNodes[nodeId].color;\n",
       "      if (allNodes[nodeId].hiddenLabel !== undefined) {\n",
       "        allNodes[nodeId].label = allNodes[nodeId].hiddenLabel;\n",
       "        allNodes[nodeId].hiddenLabel = undefined;\n",
       "      }\n",
       "    }\n",
       "    highlightActive = false;\n",
       "  }\n",
       "\n",
       "  // transform the object into an array\n",
       "  var updateArray = [];\n",
       "  if (params.nodes.length &gt; 0) {\n",
       "    for (let nodeId in allNodes) {\n",
       "      if (allNodes.hasOwnProperty(nodeId)) {\n",
       "        // console.log(allNodes[nodeId]);\n",
       "        updateArray.push(allNodes[nodeId]);\n",
       "      }\n",
       "    }\n",
       "    nodes.update(updateArray);\n",
       "  } else {\n",
       "    // console.log(&quot;Nothing was selected&quot;);\n",
       "    for (let nodeId in allNodes) {\n",
       "      if (allNodes.hasOwnProperty(nodeId)) {\n",
       "        // console.log(allNodes[nodeId]);\n",
       "        // allNodes[nodeId].color = {};\n",
       "        updateArray.push(allNodes[nodeId]);\n",
       "      }\n",
       "    }\n",
       "    nodes.update(updateArray);\n",
       "  }\n",
       "}\n",
       "\n",
       "function filterHighlight(params) {\n",
       "  allNodes = nodes.get({ returnType: &quot;Object&quot; });\n",
       "  // if something is selected:\n",
       "  if (params.nodes.length &gt; 0) {\n",
       "    filterActive = true;\n",
       "    let selectedNodes = params.nodes;\n",
       "\n",
       "    // hiding all nodes and saving the label\n",
       "    for (let nodeId in allNodes) {\n",
       "      allNodes[nodeId].hidden = true;\n",
       "      if (allNodes[nodeId].savedLabel === undefined) {\n",
       "        allNodes[nodeId].savedLabel = allNodes[nodeId].label;\n",
       "        allNodes[nodeId].label = undefined;\n",
       "      }\n",
       "    }\n",
       "\n",
       "    for (let i=0; i &lt; selectedNodes.length; i++) {\n",
       "      allNodes[selectedNodes[i]].hidden = false;\n",
       "      if (allNodes[selectedNodes[i]].savedLabel !== undefined) {\n",
       "        allNodes[selectedNodes[i]].label = allNodes[selectedNodes[i]].savedLabel;\n",
       "        allNodes[selectedNodes[i]].savedLabel = undefined;\n",
       "      }\n",
       "    }\n",
       "\n",
       "  } else if (filterActive === true) {\n",
       "    // reset all nodes\n",
       "    for (let nodeId in allNodes) {\n",
       "      allNodes[nodeId].hidden = false;\n",
       "      if (allNodes[nodeId].savedLabel !== undefined) {\n",
       "        allNodes[nodeId].label = allNodes[nodeId].savedLabel;\n",
       "        allNodes[nodeId].savedLabel = undefined;\n",
       "      }\n",
       "    }\n",
       "    filterActive = false;\n",
       "  }\n",
       "\n",
       "  // transform the object into an array\n",
       "  var updateArray = [];\n",
       "  if (params.nodes.length &gt; 0) {\n",
       "    for (let nodeId in allNodes) {\n",
       "      if (allNodes.hasOwnProperty(nodeId)) {\n",
       "        updateArray.push(allNodes[nodeId]);\n",
       "      }\n",
       "    }\n",
       "    nodes.update(updateArray);\n",
       "  } else {\n",
       "    for (let nodeId in allNodes) {\n",
       "      if (allNodes.hasOwnProperty(nodeId)) {\n",
       "        updateArray.push(allNodes[nodeId]);\n",
       "      }\n",
       "    }\n",
       "    nodes.update(updateArray);\n",
       "  }\n",
       "}\n",
       "\n",
       "function selectNode(nodes) {\n",
       "  network.selectNodes(nodes);\n",
       "  neighbourhoodHighlight({ nodes: nodes });\n",
       "  return nodes;\n",
       "}\n",
       "\n",
       "function selectNodes(nodes) {\n",
       "  network.selectNodes(nodes);\n",
       "  filterHighlight({nodes: nodes});\n",
       "  return nodes;\n",
       "}\n",
       "\n",
       "function highlightFilter(filter) {\n",
       "  let selectedNodes = []\n",
       "  let selectedProp = filter[&#x27;property&#x27;]\n",
       "  if (filter[&#x27;item&#x27;] === &#x27;node&#x27;) {\n",
       "    let allNodes = nodes.get({ returnType: &quot;Object&quot; });\n",
       "    for (let nodeId in allNodes) {\n",
       "      if (allNodes[nodeId][selectedProp] &amp;&amp; filter[&#x27;value&#x27;].includes((allNodes[nodeId][selectedProp]).toString())) {\n",
       "        selectedNodes.push(nodeId)\n",
       "      }\n",
       "    }\n",
       "  }\n",
       "  else if (filter[&#x27;item&#x27;] === &#x27;edge&#x27;){\n",
       "    let allEdges = edges.get({returnType: &#x27;object&#x27;});\n",
       "    // check if the selected property exists for selected edge and select the nodes connected to the edge\n",
       "    for (let edge in allEdges) {\n",
       "      if (allEdges[edge][selectedProp] &amp;&amp; filter[&#x27;value&#x27;].includes((allEdges[edge][selectedProp]).toString())) {\n",
       "        selectedNodes.push(allEdges[edge][&#x27;from&#x27;])\n",
       "        selectedNodes.push(allEdges[edge][&#x27;to&#x27;])\n",
       "      }\n",
       "    }\n",
       "  }\n",
       "  selectNodes(selectedNodes)\n",
       "}&lt;/script&gt;\n",
       "            &lt;link rel=&quot;stylesheet&quot; href=&quot;https://cdnjs.cloudflare.com/ajax/libs/vis-network/9.1.2/dist/dist/vis-network.min.css&quot; integrity=&quot;sha512-WgxfT5LWjfszlPHXRmBWHkV2eceiWTOBvrKCNbdgDYTHrT2AeLCGbF4sZlZw3UMN3WtL0tGUoIAKsu8mllg/XA==&quot; crossorigin=&quot;anonymous&quot; referrerpolicy=&quot;no-referrer&quot; /&gt;\n",
       "            &lt;script src=&quot;https://cdnjs.cloudflare.com/ajax/libs/vis-network/9.1.2/dist/vis-network.min.js&quot; integrity=&quot;sha512-LnvoEWDFrqGHlHmDD2101OrLcbsfkrzoSpvtSQtxK3RMnRV0eOkhhBN2dXHKRrUU8p2DGRTk35n4O8nWSVe1mQ==&quot; crossorigin=&quot;anonymous&quot; referrerpolicy=&quot;no-referrer&quot;&gt;&lt;/script&gt;\n",
       "            \n",
       "            \n",
       "            \n",
       "            \n",
       "            \n",
       "            \n",
       "\n",
       "        \n",
       "&lt;center&gt;\n",
       "&lt;h1&gt;&lt;/h1&gt;\n",
       "&lt;/center&gt;\n",
       "\n",
       "&lt;!-- &lt;link rel=&quot;stylesheet&quot; href=&quot;../node_modules/vis/dist/vis.min.css&quot; type=&quot;text/css&quot; /&gt;\n",
       "&lt;script type=&quot;text/javascript&quot; src=&quot;../node_modules/vis/dist/vis.js&quot;&gt; &lt;/script&gt;--&gt;\n",
       "        &lt;link\n",
       "          href=&quot;https://cdn.jsdelivr.net/npm/bootstrap@5.0.0-beta3/dist/css/bootstrap.min.css&quot;\n",
       "          rel=&quot;stylesheet&quot;\n",
       "          integrity=&quot;sha384-eOJMYsd53ii+scO/bJGFsiCZc+5NDVN2yr8+0RDqr0Ql0h+rP48ckxlpbzKgwra6&quot;\n",
       "          crossorigin=&quot;anonymous&quot;\n",
       "        /&gt;\n",
       "        &lt;script\n",
       "          src=&quot;https://cdn.jsdelivr.net/npm/bootstrap@5.0.0-beta3/dist/js/bootstrap.bundle.min.js&quot;\n",
       "          integrity=&quot;sha384-JEW9xMcG8R+pH31jmWH6WWP0WintQrMb4s7ZOdauHnUtxwoG2vI5DkLtS3qm9Ekf&quot;\n",
       "          crossorigin=&quot;anonymous&quot;\n",
       "        &gt;&lt;/script&gt;\n",
       "\n",
       "\n",
       "        &lt;center&gt;\n",
       "          &lt;h1&gt;&lt;/h1&gt;\n",
       "        &lt;/center&gt;\n",
       "        &lt;style type=&quot;text/css&quot;&gt;\n",
       "\n",
       "             #mynetwork {\n",
       "                 width: 100%;\n",
       "                 height: 600px;\n",
       "                 background-color: #222222;\n",
       "                 border: 1px solid lightgray;\n",
       "                 position: relative;\n",
       "                 float: left;\n",
       "             }\n",
       "\n",
       "             \n",
       "\n",
       "             \n",
       "\n",
       "             \n",
       "        &lt;/style&gt;\n",
       "    &lt;/head&gt;\n",
       "\n",
       "\n",
       "    &lt;body&gt;\n",
       "        &lt;div class=&quot;card&quot; style=&quot;width: 100%&quot;&gt;\n",
       "            \n",
       "            \n",
       "            &lt;div id=&quot;mynetwork&quot; class=&quot;card-body&quot;&gt;&lt;/div&gt;\n",
       "        &lt;/div&gt;\n",
       "\n",
       "        \n",
       "        \n",
       "\n",
       "        &lt;script type=&quot;text/javascript&quot;&gt;\n",
       "\n",
       "              // initialize global variables.\n",
       "              var edges;\n",
       "              var nodes;\n",
       "              var allNodes;\n",
       "              var allEdges;\n",
       "              var nodeColors;\n",
       "              var originalNodes;\n",
       "              var network;\n",
       "              var container;\n",
       "              var options, data;\n",
       "              var filter = {\n",
       "                  item : &#x27;&#x27;,\n",
       "                  property : &#x27;&#x27;,\n",
       "                  value : []\n",
       "              };\n",
       "\n",
       "              \n",
       "\n",
       "              \n",
       "\n",
       "              // This method is responsible for drawing the graph, returns the drawn network\n",
       "              function drawGraph() {\n",
       "                  var container = document.getElementById(&#x27;mynetwork&#x27;);\n",
       "\n",
       "                  \n",
       "\n",
       "                  // parsing and collecting nodes and edges from the python\n",
       "                  nodes = new vis.DataSet([{&quot;color&quot;: &quot;dodgerblue&quot;, &quot;font&quot;: {&quot;color&quot;: &quot;white&quot;}, &quot;id&quot;: &quot;user0001&quot;, &quot;label&quot;: &quot;user0001&quot;, &quot;shape&quot;: &quot;dot&quot;, &quot;size&quot;: 50, &quot;title&quot;: &quot;user0001&quot;}, {&quot;color&quot;: &quot;dodgerblue&quot;, &quot;font&quot;: {&quot;color&quot;: &quot;white&quot;}, &quot;id&quot;: &quot;user0002&quot;, &quot;label&quot;: &quot;user0002&quot;, &quot;shape&quot;: &quot;dot&quot;, &quot;size&quot;: 20, &quot;title&quot;: &quot;user0002&quot;}, {&quot;color&quot;: &quot;dodgerblue&quot;, &quot;font&quot;: {&quot;color&quot;: &quot;white&quot;}, &quot;id&quot;: &quot;user0003&quot;, &quot;label&quot;: &quot;user0003&quot;, &quot;shape&quot;: &quot;dot&quot;, &quot;size&quot;: 10, &quot;title&quot;: &quot;user0003&quot;}, {&quot;color&quot;: &quot;dodgerblue&quot;, &quot;font&quot;: {&quot;color&quot;: &quot;white&quot;}, &quot;id&quot;: &quot;user0004&quot;, &quot;label&quot;: &quot;user0004&quot;, &quot;shape&quot;: &quot;dot&quot;, &quot;size&quot;: 10, &quot;title&quot;: &quot;user0004&quot;}, {&quot;color&quot;: &quot;dodgerblue&quot;, &quot;font&quot;: {&quot;color&quot;: &quot;white&quot;}, &quot;id&quot;: &quot;user0005&quot;, &quot;label&quot;: &quot;user0005&quot;, &quot;shape&quot;: &quot;dot&quot;, &quot;size&quot;: 10, &quot;title&quot;: &quot;user0005&quot;}]);\n",
       "                  edges = new vis.DataSet([{&quot;arrows&quot;: &quot;to&quot;, &quot;color&quot;: &quot;gray&quot;, &quot;from&quot;: &quot;user0001&quot;, &quot;to&quot;: &quot;user0002&quot;}, {&quot;arrows&quot;: &quot;to&quot;, &quot;color&quot;: &quot;gray&quot;, &quot;from&quot;: &quot;user0002&quot;, &quot;to&quot;: &quot;user0001&quot;}, {&quot;arrows&quot;: &quot;to&quot;, &quot;color&quot;: &quot;gray&quot;, &quot;from&quot;: &quot;user0003&quot;, &quot;to&quot;: &quot;user0001&quot;}, {&quot;arrows&quot;: &quot;to&quot;, &quot;color&quot;: &quot;gray&quot;, &quot;from&quot;: &quot;user0004&quot;, &quot;to&quot;: &quot;user0001&quot;}, {&quot;arrows&quot;: &quot;to&quot;, &quot;color&quot;: &quot;gray&quot;, &quot;from&quot;: &quot;user0005&quot;, &quot;to&quot;: &quot;user0001&quot;}]);\n",
       "\n",
       "                  nodeColors = {};\n",
       "                  allNodes = nodes.get({ returnType: &quot;Object&quot; });\n",
       "                  for (nodeId in allNodes) {\n",
       "                    nodeColors[nodeId] = allNodes[nodeId].color;\n",
       "                  }\n",
       "                  allEdges = edges.get({ returnType: &quot;Object&quot; });\n",
       "                  // adding nodes and edges to the graph\n",
       "                  data = {nodes: nodes, edges: edges};\n",
       "\n",
       "                  var options = {&quot;nodes&quot;: {&quot;shape&quot;: &quot;dot&quot;, &quot;font&quot;: {&quot;size&quot;: 16, &quot;color&quot;: &quot;#ffffff&quot;, &quot;face&quot;: &quot;Arial&quot;}}, &quot;edges&quot;: {&quot;arrows&quot;: {&quot;to&quot;: {&quot;enabled&quot;: true}}, &quot;color&quot;: {&quot;color&quot;: &quot;gray&quot;, &quot;highlight&quot;: &quot;red&quot;}}, &quot;physics&quot;: {&quot;enabled&quot;: true, &quot;barnesHut&quot;: {&quot;gravitationalConstant&quot;: -8000, &quot;springLength&quot;: 250}}};\n",
       "\n",
       "                  \n",
       "\n",
       "\n",
       "                  \n",
       "\n",
       "                  network = new vis.Network(container, data, options);\n",
       "\n",
       "                  \n",
       "\n",
       "                  \n",
       "\n",
       "                  \n",
       "\n",
       "\n",
       "                  \n",
       "\n",
       "                  return network;\n",
       "\n",
       "              }\n",
       "              drawGraph();\n",
       "        &lt;/script&gt;\n",
       "    &lt;/body&gt;\n",
       "&lt;/html&gt;\" width=\"100%\" height=\"600px\" style=\"border:none;\">\n",
       "        </iframe>\n",
       "        \n",
       "        </div>\n",
       "        <script>\n",
       "            function resizeIframe() {\n",
       "                var container = document.getElementById('graph-container');\n",
       "                var iframe = container.getElementsByTagName('iframe')[0];\n",
       "                iframe.style.height = container.offsetHeight + 'px';\n",
       "            }\n",
       "            window.addEventListener('resize', resizeIframe);\n",
       "            resizeIframe();\n",
       "        </script>\n",
       "        "
      ],
      "text/plain": [
       "<IPython.core.display.HTML object>"
      ]
     },
     "metadata": {},
     "output_type": "display_data"
    },
    {
     "name": "stdout",
     "output_type": "stream",
     "text": [
      "2024-07-07T15:44:09.486208+0000 INFO Graph created and displayed successfully.\n"
     ]
    }
   ],
   "source": [
    "from mastodon_sim.mastodon_ops import follow\n",
    "from mastodon_sim.mastodon_utils import create_user_graph\n",
    "\n",
    "# Set up some follows\n",
    "follow(login_user=\"user0001\", follow_user=\"user0002\")\n",
    "follow(login_user=\"user0002\", follow_user=\"user0001\")\n",
    "follow(login_user=\"user0003\", follow_user=\"user0001\")\n",
    "follow(login_user=\"user0004\", follow_user=\"user0001\")\n",
    "follow(login_user=\"user0005\", follow_user=\"user0001\")\n",
    "\n",
    "create_user_graph()  # Note: interactive graph — not visible in GitHub"
   ]
  },
  {
   "cell_type": "markdown",
   "metadata": {},
   "source": [
    "## Delete post(s)\n",
    "\n",
    "Make `user0002` delete their last post (the reply to `user0001`'s poll)."
   ]
  },
  {
   "cell_type": "code",
   "execution_count": 24,
   "metadata": {},
   "outputs": [],
   "source": [
    "# from mastodon_sim.mastodon_ops import delete_posts\n",
    "\n",
    "# # Check user0002's number of toots\n",
    "# timeline = get_own_timeline(\"user0002\")\n",
    "\n",
    "# delete_posts(\n",
    "#     login_user=\"user0002\",\n",
    "#     recent_count=1,\n",
    "# )\n",
    "\n",
    "# # Check user0002's number of toots again, should be 1 less\n",
    "# timeline = get_own_timeline(\"user0002\")"
   ]
  },
  {
   "cell_type": "markdown",
   "metadata": {},
   "source": [
    "Delete a post by post ID."
   ]
  },
  {
   "cell_type": "code",
   "execution_count": 25,
   "metadata": {},
   "outputs": [],
   "source": [
    "# # Get user0002's first toot (and print the number of toots)\n",
    "# timeline = get_own_timeline(\"user0002\")\n",
    "# first_toot_id = timeline[0][\"id\"]\n",
    "\n",
    "# delete_posts(\n",
    "#     login_user=\"user0002\",\n",
    "#     post_ids=[first_toot_id],\n",
    "# )\n",
    "\n",
    "# # Check user0002's number of toots again, should be 1 less\n",
    "# timeline = get_own_timeline(\"user0002\")"
   ]
  },
  {
   "cell_type": "markdown",
   "metadata": {},
   "source": [
    "## Delete all posts\n",
    "\n",
    "Delete all posts for a list of users."
   ]
  },
  {
   "cell_type": "code",
   "execution_count": 26,
   "metadata": {},
   "outputs": [],
   "source": [
    "# for user in [\"user0001\", \"user0002\"]:\n",
    "#     delete_posts(login_user=user, delete_all=True, skip_confirm=True)"
   ]
  },
  {
   "cell_type": "markdown",
   "metadata": {},
   "source": [
    "## Reset all users\n",
    "\n",
    "Delete user's posts, likes, boosts, and reset display name and bio."
   ]
  },
  {
   "cell_type": "code",
   "execution_count": 27,
   "metadata": {},
   "outputs": [
    {
     "name": "stdout",
     "output_type": "stream",
     "text": [
      "2024-07-07T15:44:10.342437+0000 INFO Starting comprehensive reset process for user: user0005\n",
      "2024-07-07T15:44:10.443268+0000 INFO Starting comprehensive reset process for user: user0004\n",
      "2024-07-07T15:44:10.648010+0000 INFO Starting comprehensive reset process for user: user0001\n",
      "2024-07-07T15:44:10.662032+0000 INFO Starting comprehensive reset process for user: user0003\n",
      "2024-07-07T15:44:10.748903+0000 INFO Starting comprehensive reset process for user: user0002\n",
      "2024-07-07T15:44:11.338719+0000 ERROR No posts specified for deletion.\n",
      "2024-07-07T15:44:11.457904+0000 INFO Removed 0 out of 0 favourites.\n",
      "2024-07-07T15:44:11.659985+0000 INFO Removed 0 out of 0 boosts.\n",
      "2024-07-07T15:44:11.668052+0000 ERROR No posts specified for deletion.\n",
      "2024-07-07T15:44:11.767954+0000 INFO Removed 0 out of 0 favourites.\n",
      "2024-07-07T15:44:11.946505+0000 INFO Attempting to unfollow 1 users for user0005...\n",
      "2024-07-07T15:44:12.055143+0000 ERROR No posts specified for deletion.\n",
      "2024-07-07T15:44:12.244184+0000 INFO Removed 0 out of 0 favourites.\n",
      "2024-07-07T15:44:12.248750+0000 INFO Removed 0 out of 0 boosts.\n",
      "2024-07-07T15:44:12.462145+0000 INFO Successfully deleted post with ID: 112745974021944888\n",
      "2024-07-07T15:44:12.542503+0000 INFO Removed 0 out of 0 boosts.\n",
      "2024-07-07T15:44:12.554448+0000 INFO Successfully deleted post with ID: 112745974596547647\n",
      "2024-07-07T15:44:12.578269+0000 INFO Attempting to unfollow 1 users for user0004...\n",
      "2024-07-07T15:44:12.674001+0000 ERROR Failed to delete post with ID 112745974524904636: ('Mastodon API returned error', 404, 'Not Found', 'Record not found')\n",
      "2024-07-07T15:44:12.749691+0000 INFO Successfully deleted post with ID: 112745973983640335\n",
      "2024-07-07T15:44:12.764062+0000 INFO Attempting to unfollow 1 users for user0003...\n",
      "2024-07-07T15:44:12.939960+0000 INFO user0005 has unfollowed user0001.\n",
      "2024-07-07T15:44:12.942184+0000 INFO Successfully unfollowed 1 out of 1 users for user0005.\n",
      "2024-07-07T15:44:12.951060+0000 INFO Successfully deleted post with ID: 112745973792770639\n",
      "2024-07-07T15:44:13.158928+0000 INFO Successfully deleted post with ID: 112745973818201744\n",
      "2024-07-07T15:44:13.246482+0000 INFO Profile information reset successfully.\n",
      "2024-07-07T15:44:13.247907+0000 INFO Comprehensive reset process completed for user: user0005\n",
      "2024-07-07T15:44:13.373280+0000 INFO Successfully deleted post with ID: 112745973765652544\n",
      "2024-07-07T15:44:13.377170+0000 INFO Deletion process completed. Attempted to delete 4 post(s).\n",
      "2024-07-07T15:44:13.453797+0000 INFO Successfully deleted post with ID: 112745973731778536\n",
      "2024-07-07T15:44:13.456389+0000 INFO Deletion process completed. Attempted to delete 4 post(s).\n",
      "2024-07-07T15:44:13.459749+0000 INFO Removed 0 out of 0 favourites.\n",
      "2024-07-07T15:44:13.498050+0000 INFO user0004 has unfollowed user0001.\n",
      "2024-07-07T15:44:13.538249+0000 INFO Removed 0 out of 0 favourites.\n",
      "2024-07-07T15:44:13.556277+0000 INFO Successfully unfollowed 1 out of 1 users for user0004.\n",
      "2024-07-07T15:44:13.645657+0000 INFO Removed 0 out of 0 boosts.\n",
      "2024-07-07T15:44:13.674470+0000 INFO Profile information reset successfully.\n",
      "2024-07-07T15:44:13.675831+0000 INFO Comprehensive reset process completed for user: user0004\n",
      "2024-07-07T15:44:13.681796+0000 INFO Removed 0 out of 0 boosts.\n",
      "2024-07-07T15:44:13.750349+0000 INFO user0003 has unfollowed user0001.\n",
      "2024-07-07T15:44:13.752450+0000 INFO Successfully unfollowed 1 out of 1 users for user0003.\n",
      "2024-07-07T15:44:13.848762+0000 INFO Profile information reset successfully.\n",
      "2024-07-07T15:44:13.853221+0000 INFO Attempting to unfollow 1 users for user0002...\n",
      "2024-07-07T15:44:13.855546+0000 INFO Attempting to unfollow 1 users for user0001...\n",
      "2024-07-07T15:44:13.900225+0000 INFO Comprehensive reset process completed for user: user0003\n",
      "2024-07-07T15:44:14.545683+0000 INFO user0002 has unfollowed user0001.\n",
      "2024-07-07T15:44:14.548853+0000 INFO Successfully unfollowed 1 out of 1 users for user0002.\n",
      "2024-07-07T15:44:14.603201+0000 INFO user0001 has unfollowed user0002.\n",
      "2024-07-07T15:44:14.605230+0000 INFO Successfully unfollowed 1 out of 1 users for user0001.\n",
      "2024-07-07T15:44:14.619141+0000 INFO Profile information reset successfully.\n",
      "2024-07-07T15:44:14.620689+0000 INFO Comprehensive reset process completed for user: user0002\n",
      "2024-07-07T15:44:14.660300+0000 INFO Profile information reset successfully.\n",
      "2024-07-07T15:44:14.661800+0000 INFO Comprehensive reset process completed for user: user0001\n",
      "2024-07-07T15:44:14.825202+0000 INFO Retrieved 0 posts from the public timeline.\n"
     ]
    }
   ],
   "source": [
    "from mastodon_sim.mastodon_ops import reset_users\n",
    "from mastodon_sim.mastodon_utils import get_users_from_env\n",
    "\n",
    "# Get all users from .env file\n",
    "users = get_users_from_env()\n",
    "\n",
    "# Reset all users\n",
    "reset_users(users, skip_confirm=True, parallel=True)\n",
    "\n",
    "# Check that the public timeline is now empty\n",
    "assert not len(get_public_timeline(limit=None))"
   ]
  },
  {
   "cell_type": "markdown",
   "metadata": {},
   "source": [
    "And that's it so far!"
   ]
  },
  {
   "cell_type": "markdown",
   "metadata": {},
   "source": [
    "## [TODO] \n",
    "\n",
    "### Operations to add:\n",
    "\n",
    "- favourites\n",
    "- bookmarks\n",
    "- timeline_hashtag\n",
    "- conversations\n",
    "- trending_tags\n",
    "- status_update\n",
    "- admin_account_moderate\n",
    "\n",
    "https://mastodonpy.readthedocs.io/en/stable/index.html"
   ]
  }
 ],
 "metadata": {
  "kernelspec": {
   "display_name": "mastodon-sim-env",
   "language": "python",
   "name": "python3"
  },
  "language_info": {
   "codemirror_mode": {
    "name": "ipython",
    "version": 3
   },
   "file_extension": ".py",
   "mimetype": "text/x-python",
   "name": "python",
   "nbconvert_exporter": "python",
   "pygments_lexer": "ipython3",
   "version": "3.11.9"
  }
 },
 "nbformat": 4,
 "nbformat_minor": 2
}
